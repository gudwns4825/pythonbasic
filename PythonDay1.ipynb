{
  "nbformat": 4,
  "nbformat_minor": 0,
  "metadata": {
    "colab": {
      "provenance": [],
      "toc_visible": true,
      "authorship_tag": "ABX9TyNIqkRPMUxqhOCjRzrjsiL8",
      "include_colab_link": true
    },
    "kernelspec": {
      "name": "python3",
      "display_name": "Python 3"
    },
    "language_info": {
      "name": "python"
    }
  },
  "cells": [
    {
      "cell_type": "markdown",
      "metadata": {
        "id": "view-in-github",
        "colab_type": "text"
      },
      "source": [
        "<a href=\"https://colab.research.google.com/github/gudwns4825/pythonbasic/blob/main/PythonDay1.ipynb\" target=\"_parent\"><img src=\"https://colab.research.google.com/assets/colab-badge.svg\" alt=\"Open In Colab\"/></a>"
      ]
    },
    {
      "cell_type": "code",
      "execution_count": 1,
      "metadata": {
        "colab": {
          "base_uri": "https://localhost:8080/"
        },
        "id": "BQab1919kmLb",
        "outputId": "4e093b3f-74ab-41d0-85c1-2f9c3bfccb0e"
      },
      "outputs": [
        {
          "output_type": "stream",
          "name": "stdout",
          "text": [
            "hello world 한글 테스트\n"
          ]
        }
      ],
      "source": [
        "print(\"hello world 한글 테스트\")"
      ]
    },
    {
      "cell_type": "code",
      "source": [
        "#파이썬은 자바와는 달리 자료형 선언을 하지 않아도 알아서 데이터에 맞게 타입을 자동으로 지정한다.\n",
        "a=20\n",
        "b=\"hello\"\n",
        "a=\"hi\"\n",
        "print(a)"
      ],
      "metadata": {
        "colab": {
          "base_uri": "https://localhost:8080/"
        },
        "id": "BRRs7NhklUJE",
        "outputId": "6c40bcb0-c45f-4cbe-d20c-d02d452fbad0"
      },
      "execution_count": 4,
      "outputs": [
        {
          "output_type": "stream",
          "name": "stdout",
          "text": [
            "hi\n"
          ]
        }
      ]
    },
    {
      "cell_type": "code",
      "source": [
        "#정수형 자료형\n",
        "a = 100\n",
        "b = -123\n",
        "c = 0"
      ],
      "metadata": {
        "id": "jP7JPSEblUC8"
      },
      "execution_count": 30,
      "outputs": []
    },
    {
      "cell_type": "code",
      "source": [
        "# 실수형 자료형\n",
        "\n",
        "a = 3.14\n",
        "b = -5.16"
      ],
      "metadata": {
        "id": "NI1Yk2xVlT6V"
      },
      "execution_count": null,
      "outputs": []
    },
    {
      "cell_type": "code",
      "source": [
        "# 숫자형 자료형에서의 연산\n",
        "\n",
        "a = 3\n",
        "b = 4\n",
        "\n",
        "# 코랩에서는 print 를 생략해도 알아서 print() 넣어준다. 마지막 에만 넣어준다.  \n",
        "a + b\n",
        "a - b"
      ],
      "metadata": {
        "colab": {
          "base_uri": "https://localhost:8080/"
        },
        "id": "I9fsX9C2lTxM",
        "outputId": "6dc69955-9b8b-49e2-871c-9eefcbc8ebcd"
      },
      "execution_count": 18,
      "outputs": [
        {
          "output_type": "execute_result",
          "data": {
            "text/plain": [
              "-1"
            ]
          },
          "metadata": {},
          "execution_count": 18
        }
      ]
    },
    {
      "cell_type": "code",
      "source": [
        "a + b\n",
        "a - b\n",
        "\n",
        "print(a+b)\n",
        "print(a-b)\n",
        "\n",
        "# print() 구문을 생략하면 마지막 구문만 출력해주기 때문에 전부 출력하고 싶으면\n",
        "# 각각 print() 구문을 다 적어야 한다. 이것은 파이썬의 특징이 아닌 코랩의 특징이다. "
      ],
      "metadata": {
        "colab": {
          "base_uri": "https://localhost:8080/"
        },
        "id": "Sdv3587D9Axn",
        "outputId": "d96d2b37-8519-498e-9c44-8c1984987903"
      },
      "execution_count": 19,
      "outputs": [
        {
          "output_type": "stream",
          "name": "stdout",
          "text": [
            "7\n",
            "-1\n"
          ]
        }
      ]
    },
    {
      "cell_type": "code",
      "source": [
        "# 나머지 연산자 - 홀수 짝수 배수 확인\n",
        "\n",
        "5 / 2  # 일반적인 나머지 구하기"
      ],
      "metadata": {
        "colab": {
          "base_uri": "https://localhost:8080/"
        },
        "id": "xn456lnh9Ah_",
        "outputId": "b643baa9-6090-4607-9e2b-09fec3eea482"
      },
      "execution_count": 20,
      "outputs": [
        {
          "output_type": "execute_result",
          "data": {
            "text/plain": [
              "2.5"
            ]
          },
          "metadata": {},
          "execution_count": 20
        }
      ]
    },
    {
      "cell_type": "code",
      "source": [
        "5 % 2 \n",
        "\n",
        "# 나눈 결과의 몫은 버리고 나머지만 취한다. \n",
        "# 따라서 어떤수를 2로 나눈 나머지가 0이 나오면 짝수 1이 나오면 홀수 "
      ],
      "metadata": {
        "colab": {
          "base_uri": "https://localhost:8080/"
        },
        "id": "hB2N2a2x8E2n",
        "outputId": "f7413b19-d070-4371-c543-31b112ad4390"
      },
      "execution_count": 21,
      "outputs": [
        {
          "output_type": "execute_result",
          "data": {
            "text/plain": [
              "1"
            ]
          },
          "metadata": {},
          "execution_count": 21
        }
      ]
    },
    {
      "cell_type": "code",
      "source": [
        "8 % 2\n",
        "# 어떤수 8를 어떤수 2로 나눈 나머지가 0이면 배수이다. "
      ],
      "metadata": {
        "colab": {
          "base_uri": "https://localhost:8080/"
        },
        "id": "hj525uBZ8E03",
        "outputId": "a92ac6b9-d9fb-4807-d1ea-57983d3b215d"
      },
      "execution_count": 22,
      "outputs": [
        {
          "output_type": "execute_result",
          "data": {
            "text/plain": [
              "0"
            ]
          },
          "metadata": {},
          "execution_count": 22
        }
      ]
    },
    {
      "cell_type": "code",
      "source": [
        "# 문자열 자료형 - 파이썬에서는 \"\" 와 ''가 완전히 동일하게 사용된다. \n",
        "\n",
        "# 1 큰 따옴표\n",
        "\"Hello World\"\n",
        "\n",
        "# 2 작은 따옴표\n",
        "'Hello World'\n",
        "\n",
        "\n",
        "\n",
        "# 3 3중 따옴표 Doc String\n",
        "\"\"\"Hello World\"\"\"\n",
        "'''Hello World'''"
      ],
      "metadata": {
        "colab": {
          "base_uri": "https://localhost:8080/",
          "height": 35
        },
        "id": "g-gYJgqb8Eyp",
        "outputId": "dc2dd418-0a7f-44e5-ac34-cdb171d303fe"
      },
      "execution_count": 23,
      "outputs": [
        {
          "output_type": "execute_result",
          "data": {
            "text/plain": [
              "'Hello World'"
            ],
            "application/vnd.google.colaboratory.intrinsic+json": {
              "type": "string"
            }
          },
          "metadata": {},
          "execution_count": 23
        }
      ]
    },
    {
      "cell_type": "code",
      "source": [
        "# 파이썬에서는 큰따옴표와 작은 따옴표에 전혀 차이가 없지만\n",
        "# 아래의 용도로 분리하여 사용된다. \n",
        "\n",
        "\"Python's\"     # 작은 따옴표 하나를 출력하기 위한 용도\n",
        "'say \"Hello\"'  # 작은 따옴표 안에서 큰 따옴표를 축력하기 위한 용도 "
      ],
      "metadata": {
        "colab": {
          "base_uri": "https://localhost:8080/",
          "height": 35
        },
        "id": "mFWCtTVO8EwY",
        "outputId": "e98762b9-fd3a-428d-d566-adc01e84e865"
      },
      "execution_count": 16,
      "outputs": [
        {
          "output_type": "execute_result",
          "data": {
            "text/plain": [
              "'say \"Hello\"'"
            ],
            "application/vnd.google.colaboratory.intrinsic+json": {
              "type": "string"
            }
          },
          "metadata": {},
          "execution_count": 16
        }
      ]
    },
    {
      "cell_type": "code",
      "source": [
        "# \\n 줄바꿈\n",
        "a = \"I love you\\nYou love me?\"\n",
        "print(a)\n",
        "\n",
        "\n",
        "b = \"\"\"I love you\n",
        "You love me?\"\"\"\n",
        "print(b)\n",
        "\n",
        "\n",
        "# 에러 발생\n",
        "# c = \"I love you\n",
        "# You love me \""
      ],
      "metadata": {
        "colab": {
          "base_uri": "https://localhost:8080/"
        },
        "id": "Bp4WnTdB8Et_",
        "outputId": "ac763076-8250-492a-d50d-964cab00028c"
      },
      "execution_count": 15,
      "outputs": [
        {
          "output_type": "stream",
          "name": "stdout",
          "text": [
            "I love you\n",
            "You love me?\n",
            "I love you\n",
            "You love me?\n"
          ]
        }
      ]
    },
    {
      "cell_type": "code",
      "source": [
        "# 문자열 연산\n",
        "\n",
        "# 파이썬에서는 문자열도 연산이 가능하다. 특히 다른 언어에서는 발견하기 어려운 파이썬만의 \n",
        "# 독특한 특징이다. 이런 점들이 바로 파이썬은 우리의 생각을 그대로 반영할수 있다는 파이썬 만의\n",
        "# 장점들이다. \n",
        "\n",
        "a = \"I \"\n",
        "b = \"love \"\n",
        "c = \"you\"\n",
        "\n",
        "print(a+b+c)\n",
        "\n",
        "d = \"love \"\n",
        "print(d*3)\n",
        "\n",
        "e = \"=\"\n",
        "print(e *30)"
      ],
      "metadata": {
        "colab": {
          "base_uri": "https://localhost:8080/"
        },
        "id": "twZ2p6yA8Ern",
        "outputId": "5011a8cd-516b-4330-cdbd-1d471d526824"
      },
      "execution_count": 14,
      "outputs": [
        {
          "output_type": "stream",
          "name": "stdout",
          "text": [
            "I love you\n",
            "love love love \n",
            "==============================\n"
          ]
        }
      ]
    },
    {
      "cell_type": "code",
      "source": [
        "\n",
        "# len()\n",
        "\n",
        "print(len(\"i love you\"))  # 빈칸도 글자 취급한다. "
      ],
      "metadata": {
        "colab": {
          "base_uri": "https://localhost:8080/"
        },
        "id": "E5rQNh6T8EpQ",
        "outputId": "f42b269e-93a7-4c49-c1ae-7a2ac17af0c9"
      },
      "execution_count": 12,
      "outputs": [
        {
          "output_type": "stream",
          "name": "stdout",
          "text": [
            "10\n"
          ]
        }
      ]
    },
    {
      "cell_type": "code",
      "source": [
        "# 인덱싱과 슬라이싱 indexing & slicing\n",
        "# 참고로 인덱싱과 슬라이싱은 리스트와 튜플에서도 완전히 동일하게 사용된다. \n",
        "\n",
        "# 인덱싱 - 한 개의 글자 추출\n",
        "a = 'I love You'\n",
        "print(a[0])\n",
        "print(a[9])\n",
        "print(a[-1])  # 마지막 글자 추출은 -1 을 사용한다. \n",
        "print(a[-3])\n",
        "\n",
        "# 슬라이싱 - 여러개의 글자 추출\n",
        "a = 'I love you'\n",
        "print(a[2] + a[3] + a[4] + a[5])\n",
        "print(a[2:6]) # 끝자리를 나타내는 수는 미만을 의미한다. \n",
        "print(a[7:])  # 끝자리를 생략하면 끝까지 출력한다. \n",
        "print(a[:2])  # 시작 자리를 생략하면 처음 즉 0 부터 시작한다. \n",
        "print(a[:])   # 모든 자리 생략하면 처음 부터 끝까지 출력한다. \n",
        "print(a[7:-1])# 슬라이싱에서도 - 표기를 사용한다. 역시 미만으로 사용된다. "
      ],
      "metadata": {
        "colab": {
          "base_uri": "https://localhost:8080/"
        },
        "id": "2RKMY5wa8El_",
        "outputId": "9871a6e6-8264-484c-c43d-e04e289744df"
      },
      "execution_count": 9,
      "outputs": [
        {
          "output_type": "stream",
          "name": "stdout",
          "text": [
            "I\n",
            "u\n",
            "u\n",
            "Y\n",
            "love\n",
            "love\n",
            "you\n",
            "I \n",
            "I love you\n",
            "yo\n"
          ]
        }
      ]
    },
    {
      "cell_type": "code",
      "source": [
        "#파이썬에서 출력 방법 총 4가지\n",
        "\n",
        "# 1 문자열 포맷팅 (중요도 하)\n",
        "\n",
        "print(\"I %s you\" % \"love\")\n",
        "print(\"I ate %d apples\" % 5)\n",
        "print(\"I ate %s apples\" % 5)\n",
        "print(\"I %s you, I ate %s apples\" % (\"love\", 5))\n",
        "\n",
        "# 2 format() 포맷 함수 (중요도 하)\n",
        "\n",
        "print(\"I {} you\".format(\"love\"))\n",
        "print(\"I ate {} apples\".format(5))\n",
        "print(\"I ate {} apples\".format(5))\n",
        "\n",
        "print(\"I {} you, I ate {} apples\".format(\"love\", 5))\n"
      ],
      "metadata": {
        "colab": {
          "base_uri": "https://localhost:8080/"
        },
        "id": "9sqQ5K-X8EeI",
        "outputId": "7025f465-7d0c-46b4-9d88-7faaa6da84aa"
      },
      "execution_count": 27,
      "outputs": [
        {
          "output_type": "stream",
          "name": "stdout",
          "text": [
            "I love you\n",
            "I ate 5 apples\n",
            "I ate 5 apples\n",
            "I love you, I ate 5 apples\n",
            "I love you\n",
            "I ate 5 apples\n",
            "I ate 5 apples\n",
            "I love you, I ate 5 apples\n"
          ]
        }
      ]
    },
    {
      "cell_type": "code",
      "source": [
        "# 3 f스트링 (중요도 상)\n",
        "\n",
        "a=\"love\"\n",
        "b = 5\n",
        "\n",
        "print(f\"I {a} you\")\n",
        "print(f\"I ate {b} apples\")\n",
        "print(f\"I ate {b} apples\")\n",
        "\n",
        "print(f\"I ate {a} you, I ate {b} apples\")"
      ],
      "metadata": {
        "colab": {
          "base_uri": "https://localhost:8080/"
        },
        "id": "3iYnLk9799_o",
        "outputId": "2cd219ac-ab94-4902-d9e5-08050a6e2a51"
      },
      "execution_count": 39,
      "outputs": [
        {
          "output_type": "stream",
          "name": "stdout",
          "text": [
            "I love you\n",
            "I ate 5 apples\n",
            "I ate 5 apples\n",
            "I ate love you, I ate 5 apples\n"
          ]
        }
      ]
    },
    {
      "cell_type": "code",
      "source": [
        "# 4 연산자 사용\n",
        "\n",
        "a=\"love\"\n",
        "b = 5\n",
        "\n",
        "print(\"I\" + a + \" you\")\n",
        "print(\"I ate\" , b , \"apples\")\n",
        "print(\"I ate\" , b , \"apples\")\n",
        "print(\"I \" + a + \" you, I ate\" , b , \"apples\")\n",
        "print(\"I\" , a , \" you\")\n",
        "print(\"I ate\" , b , \"apples\")\n",
        "print(\"I ate\" , b , \"apples\")\n",
        "print(\"I\", a , \" you, I ate\" , b , \"apples\")"
      ],
      "metadata": {
        "colab": {
          "base_uri": "https://localhost:8080/"
        },
        "id": "uXn_V-q-ATwQ",
        "outputId": "77263b93-f302-4ab8-bb3e-97e4de611467"
      },
      "execution_count": 45,
      "outputs": [
        {
          "output_type": "stream",
          "name": "stdout",
          "text": [
            "Ilove you\n",
            "I ate 5 apples\n",
            "I ate 5 apples\n",
            "I love you, I ate 5 apples\n",
            "I love  you\n",
            "I ate 5 apples\n",
            "I ate 5 apples\n",
            "I love  you, I ate 5 apples\n"
          ]
        }
      ]
    },
    {
      "cell_type": "code",
      "source": [
        "# 문자열 관련 자주 사용하는 함수 정리\n",
        "\n",
        "# len 문자열의 갯수 확인\n",
        "\n",
        "print(len(\"I love you\")) # 빈칸도 글자로 센다."
      ],
      "metadata": {
        "colab": {
          "base_uri": "https://localhost:8080/"
        },
        "id": "DEaSrlfGApC_",
        "outputId": "585c5350-9873-4c9b-c85d-008df9388fd9"
      },
      "execution_count": 46,
      "outputs": [
        {
          "output_type": "stream",
          "name": "stdout",
          "text": [
            "10\n"
          ]
        }
      ]
    }
  ]
}